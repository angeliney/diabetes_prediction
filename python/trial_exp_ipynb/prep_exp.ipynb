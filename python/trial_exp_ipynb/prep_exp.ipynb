{
 "cells": [
  {
   "cell_type": "code",
   "execution_count": 1,
   "metadata": {},
   "outputs": [
    {
     "name": "stderr",
     "output_type": "stream",
     "text": [
      "/h/angeliney/miniconda2/lib/python2.7/site-packages/rpy2/robjects/lib/dplyr.py:23: UserWarning: This was designed againt dplyr version 0.4.3 but you have 0.8.0.1\n",
      "  warnings.warn('This was designed againt dplyr version %s but you have %s' % (TARGET_VERSION, dplyr.__version__))\n",
      "/h/angeliney/miniconda2/lib/python2.7/site-packages/rpy2/robjects/packages.py:347: UserWarning: The symbol 'src_desc' is not in this R namespace/package.\n",
      "  warnings.warn(\"The symbol '%s' is not in this R namespace/package.\" % name)\n",
      "/h/angeliney/miniconda2/lib/python2.7/site-packages/rpy2/robjects/packages.py:347: UserWarning: The symbol 'src_dt' is not in this R namespace/package.\n",
      "  warnings.warn(\"The symbol '%s' is not in this R namespace/package.\" % name)\n"
     ]
    }
   ],
   "source": [
    "import sys\n",
    "import os\n",
    "import numpy as np\n",
    "from str2bool import str2bool\n",
    "from rpy2.robjects.packages import STAP\n",
    "import rpy2.robjects as robjects\n",
    "from rpy2.robjects import pandas2ri, numpy2ri\n",
    "from rpy2.robjects.lib.dplyr import DataFrame\n",
    "from rpy2.robjects.packages import importr\n",
    "\n",
    "pandas2ri.activate()\n",
    "numpy2ri.activate()"
   ]
  },
  {
   "cell_type": "code",
   "execution_count": 2,
   "metadata": {},
   "outputs": [],
   "source": [
    "# Read command arguments: include_lab, include_ethdon, lag, eq_train_ratio\n",
    "include_lab = str2bool(\"T\")  # Include lab features?\n",
    "include_ethdon = str2bool(\"T\")  # Include ethnicity + donor details?\n",
    "lag = int(\"1\")  # Number of lag variables\n",
    "eq_train_ratio = str2bool(\"T\")  # Train on equal case:control ratio?\n",
    "home_dir = '/home/diabetes_prediction'\n",
    "visit_type = \"first\"\n",
    "output = \"temp\"\n",
    "post2000 = True"
   ]
  },
  {
   "cell_type": "code",
   "execution_count": 3,
   "metadata": {},
   "outputs": [],
   "source": [
    "# Get features based on these inputs\n",
    "with open(os.path.join(home_dir, 'features.R'), 'r') as f:\n",
    "    string = f.read()\n",
    "features_file = STAP(string, \"features\")\n",
    "features_to_use = features_file.features.rx2(\"clin\")\n",
    "if include_lab:\n",
    "    features_to_use = features_to_use + features_file.features.rx2(\"lab\")\n",
    "\n",
    "if include_ethdon:\n",
    "    features_to_use = features_to_use + features_file.features.rx2(\"eth\") + features_file.features.rx2(\"don\")\n",
    "\n",
    "timedep_cols = np.intersect1d(features_to_use, features_file.timedep_features)\n",
    "cov_cols = np.setdiff1d(features_to_use, timedep_cols)\n",
    "\n",
    "if eq_train_ratio:\n",
    "    eq_cases_train_cols = np.array([\"TRR_ID\", \"is_diab\"])\n",
    "else:\n",
    "    eq_cases_train_cols = np.array()"
   ]
  },
  {
   "cell_type": "code",
   "execution_count": 21,
   "metadata": {},
   "outputs": [],
   "source": [
    "# Read RDS files (load data table)\n",
    "readRDS = robjects.r['readRDS']\n",
    "tx_li_study = readRDS(os.path.join(home_dir, 'tx_li_formatted.rds'))\n",
    "txf_li_study = readRDS(os.path.join(home_dir, 'txf_li_formatted.rds'))"
   ]
  },
  {
   "cell_type": "code",
   "execution_count": 24,
   "metadata": {},
   "outputs": [
    {
     "name": "stderr",
     "output_type": "stream",
     "text": [
      "/h/angeliney/miniconda2/lib/python2.7/site-packages/rpy2/rinterface/__init__.py:186: RRuntimeWarning: Loading required package: data.table\n",
      "\n",
      "  warnings.warn(x, RRuntimeWarning)\n",
      "/h/angeliney/miniconda2/lib/python2.7/site-packages/rpy2/rinterface/__init__.py:186: RRuntimeWarning: data.table 1.12.0  Latest news: r-datatable.com\n",
      "\n",
      "  warnings.warn(x, RRuntimeWarning)\n",
      "/h/angeliney/miniconda2/lib/python2.7/site-packages/rpy2/rinterface/__init__.py:186: RRuntimeWarning: \n",
      "Attaching package: ‘data.table’\n",
      "\n",
      "\n",
      "  warnings.warn(x, RRuntimeWarning)\n",
      "/h/angeliney/miniconda2/lib/python2.7/site-packages/rpy2/rinterface/__init__.py:186: RRuntimeWarning: The following objects are masked from ‘package:dplyr’:\n",
      "\n",
      "    between, first, last\n",
      "\n",
      "\n",
      "  warnings.warn(x, RRuntimeWarning)\n",
      "/h/angeliney/miniconda2/lib/python2.7/site-packages/rpy2/rinterface/__init__.py:186: RRuntimeWarning: Loading required package: data.table\n",
      "\n",
      "  warnings.warn(x, RRuntimeWarning)\n",
      "/h/angeliney/miniconda2/lib/python2.7/site-packages/rpy2/rinterface/__init__.py:186: RRuntimeWarning: data.table 1.12.0  Latest news: r-datatable.com\n",
      "\n",
      "  warnings.warn(x, RRuntimeWarning)\n",
      "/h/angeliney/miniconda2/lib/python2.7/site-packages/rpy2/rinterface/__init__.py:186: RRuntimeWarning: \n",
      "Attaching package: ‘data.table’\n",
      "\n",
      "\n",
      "  warnings.warn(x, RRuntimeWarning)\n",
      "/h/angeliney/miniconda2/lib/python2.7/site-packages/rpy2/rinterface/__init__.py:186: RRuntimeWarning: The following objects are masked from ‘package:dplyr’:\n",
      "\n",
      "    between, first, last\n",
      "\n",
      "\n",
      "  warnings.warn(x, RRuntimeWarning)\n"
     ]
    }
   ],
   "source": [
    "# Merge them\n",
    "with open(os.path.join(home_dir, 'R', 'functions.R'), 'r') as f:\n",
    "    string = f.read()\n",
    "functions = STAP(string, \"functions\")\n",
    "\n",
    "merged = functions.combine_tx_txf(tx_li_study, txf_li_study, np.setdiff1d(cov_cols, \"age\"), timedep_cols, lag)"
   ]
  },
  {
   "cell_type": "code",
   "execution_count": 8,
   "metadata": {},
   "outputs": [],
   "source": [
    "df = pandas2ri.ri2py_dataframe(DataFrame(merged).filter('time_next_followup > time_since_transplant'))"
   ]
  },
  {
   "cell_type": "code",
   "execution_count": null,
   "metadata": {},
   "outputs": [],
   "source": [
    "df"
   ]
  },
  {
   "cell_type": "code",
   "execution_count": 9,
   "metadata": {},
   "outputs": [],
   "source": [
    "#Prep data for model training\n",
    "cols = np.concatenate((timedep_cols, cov_cols))\n",
    "if lag > 0:\n",
    "    for l in range(1,  lag + 1):\n",
    "        cols = np.append(cols, list(map(lambda x: '{}_{}'.format(x, l), timedep_cols)))\n",
    "\n",
    "subset_cols = np.concatenate((['transplant_year', 'TRR_ID', 'age'], cols, ['is_diab', 'time_since_transplant',\n",
    "                                                                   'time_next_followup', 'time_to_diab',\n",
    "                                                                   'diab_time_since_tx', 'diab_in_1_year',\n",
    "                                                                   'diab_now']))\n",
    "df = df.dropna(subset=subset_cols)\n",
    "df_test = df[(df.transplant_year.astype(int) >= 2011) & (df.time_to_diab >= 0)]\n",
    "df_nontest = df[(df.transplant_year.astype(int) < 2011) & (df.time_to_diab >= 0)]\n"
   ]
  },
  {
   "cell_type": "code",
   "execution_count": 10,
   "metadata": {},
   "outputs": [],
   "source": [
    "num_folds = 5\n",
    "nontest_y = df_nontest.drop_duplicates(subset=['TRR_ID', 'is_diab']).is_diab\n",
    "caret = importr('caret')\n",
    "folds = caret.createFolds(nontest_y, num_folds, False)"
   ]
  },
  {
   "cell_type": "code",
   "execution_count": 11,
   "metadata": {},
   "outputs": [],
   "source": [
    "data = {'test': df_test, 'train': df_nontest, 'cols': cols, 'eq_cases_train_cols': eq_cases_train_cols,\n",
    "            'folds': folds}"
   ]
  },
  {
   "cell_type": "code",
   "execution_count": 12,
   "metadata": {},
   "outputs": [],
   "source": [
    "import pickle\n",
    "\n",
    "# Save data in case kernel got restarted\n",
    "pickle.dump(data, open(\"temp.pkl\", \"wb\")) "
   ]
  },
  {
   "cell_type": "code",
   "execution_count": null,
   "metadata": {},
   "outputs": [],
   "source": []
  }
 ],
 "metadata": {
  "kernelspec": {
   "display_name": "Python 2",
   "language": "python",
   "name": "python2"
  },
  "language_info": {
   "codemirror_mode": {
    "name": "ipython",
    "version": 2
   },
   "file_extension": ".py",
   "mimetype": "text/x-python",
   "name": "python",
   "nbconvert_exporter": "python",
   "pygments_lexer": "ipython2",
   "version": "2.7.15"
  }
 },
 "nbformat": 4,
 "nbformat_minor": 2
}
