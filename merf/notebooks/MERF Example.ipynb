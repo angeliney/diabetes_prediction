{
 "cells": [
  {
   "cell_type": "code",
   "execution_count": 1,
   "metadata": {},
   "outputs": [],
   "source": [
    "%load_ext autoreload\n",
    "%autoreload 2\n",
    "import os, sys\n",
    "sys.path.append('..')\n",
    "%matplotlib inline\n",
    "import matplotlib.pyplot as plt\n",
    "import seaborn as sns\n",
    "sns.set_context(\"poster\")\n",
    "%load_ext line_profiler\n",
    "import numpy as np\n",
    "import pandas as pd\n",
    "import matplotlib as mpl\n",
    "mpl.rcParams['figure.figsize'] = (11,8)"
   ]
  },
  {
   "cell_type": "code",
   "execution_count": 2,
   "metadata": {},
   "outputs": [],
   "source": [
    "from merf.utils import MERFDataGenerator\n",
    "from merf.merf import MERF"
   ]
  },
  {
   "cell_type": "markdown",
   "metadata": {},
   "source": [
    "# Test Data Generation"
   ]
  },
  {
   "cell_type": "code",
   "execution_count": 64,
   "metadata": {},
   "outputs": [],
   "source": [
    "dgm = MERFDataGenerator(m=.6, sigma_b=np.sqrt(4.5), sigma_e=1)"
   ]
  },
  {
   "cell_type": "code",
   "execution_count": 65,
   "metadata": {},
   "outputs": [],
   "source": [
    "num_clusters_each_size = 20\n",
    "train_sizes = [1, 3, 5, 7, 9]\n",
    "known_sizes = [9, 27, 45, 63, 81]\n",
    "new_sizes = [10, 30, 50, 70, 90]"
   ]
  },
  {
   "cell_type": "code",
   "execution_count": 66,
   "metadata": {},
   "outputs": [],
   "source": [
    "# Smaller set that can be used for debugging\n",
    "# num_clusters_each_size = 1\n",
    "# train_sizes = [1, 3]\n",
    "# known_sizes = [9, 27]\n",
    "# new_sizes = [10, 30]"
   ]
  },
  {
   "cell_type": "code",
   "execution_count": 67,
   "metadata": {},
   "outputs": [],
   "source": [
    "train_cluster_sizes = MERFDataGenerator.create_cluster_sizes_array(train_sizes, num_clusters_each_size)\n",
    "known_cluster_sizes = MERFDataGenerator.create_cluster_sizes_array(known_sizes, num_clusters_each_size)\n",
    "new_cluster_sizes = MERFDataGenerator.create_cluster_sizes_array(new_sizes, num_clusters_each_size)"
   ]
  },
  {
   "cell_type": "code",
   "execution_count": 68,
   "metadata": {},
   "outputs": [
    {
     "data": {
      "text/plain": [
       "(100, 100, 100)"
      ]
     },
     "execution_count": 68,
     "metadata": {},
     "output_type": "execute_result"
    }
   ],
   "source": [
    "len(train_cluster_sizes), len(known_cluster_sizes), len(new_cluster_sizes)"
   ]
  },
  {
   "cell_type": "code",
   "execution_count": 69,
   "metadata": {},
   "outputs": [
    {
     "name": "stderr",
     "output_type": "stream",
     "text": [
      "INFO     [utils.py:164] Drew 10000 samples from 200 clusters.\n",
      "INFO     [utils.py:165] PTEV = 89.92306530779202, PREV = 50.42778063639541.\n"
     ]
    }
   ],
   "source": [
    "train, test_known, test_new, training_cluster_ids, ptev, prev = dgm.generate_split_samples(train_cluster_sizes, known_cluster_sizes, new_cluster_sizes)"
   ]
  },
  {
   "cell_type": "code",
   "execution_count": 70,
   "metadata": {},
   "outputs": [
    {
     "data": {
      "text/plain": [
       "(500, 4500, 5000)"
      ]
     },
     "execution_count": 70,
     "metadata": {},
     "output_type": "execute_result"
    }
   ],
   "source": [
    "len(train), len(test_known), len(test_new)"
   ]
  },
  {
   "cell_type": "code",
   "execution_count": 71,
   "metadata": {},
   "outputs": [
    {
     "data": {
      "text/html": [
       "<div>\n",
       "<style>\n",
       "    .dataframe thead tr:only-child th {\n",
       "        text-align: right;\n",
       "    }\n",
       "\n",
       "    .dataframe thead th {\n",
       "        text-align: left;\n",
       "    }\n",
       "\n",
       "    .dataframe tbody tr th {\n",
       "        vertical-align: top;\n",
       "    }\n",
       "</style>\n",
       "<table border=\"1\" class=\"dataframe\">\n",
       "  <thead>\n",
       "    <tr style=\"text-align: right;\">\n",
       "      <th></th>\n",
       "      <th>y</th>\n",
       "      <th>X_0</th>\n",
       "      <th>X_1</th>\n",
       "      <th>X_2</th>\n",
       "      <th>Z</th>\n",
       "      <th>cluster</th>\n",
       "    </tr>\n",
       "  </thead>\n",
       "  <tbody>\n",
       "    <tr>\n",
       "      <th>0</th>\n",
       "      <td>-0.132555</td>\n",
       "      <td>-0.070097</td>\n",
       "      <td>-0.169975</td>\n",
       "      <td>0.431369</td>\n",
       "      <td>1.0</td>\n",
       "      <td>0</td>\n",
       "    </tr>\n",
       "    <tr>\n",
       "      <th>10</th>\n",
       "      <td>7.367295</td>\n",
       "      <td>2.371786</td>\n",
       "      <td>0.185957</td>\n",
       "      <td>1.003058</td>\n",
       "      <td>1.0</td>\n",
       "      <td>1</td>\n",
       "    </tr>\n",
       "    <tr>\n",
       "      <th>20</th>\n",
       "      <td>1.730853</td>\n",
       "      <td>1.073621</td>\n",
       "      <td>-1.120714</td>\n",
       "      <td>-1.233593</td>\n",
       "      <td>1.0</td>\n",
       "      <td>2</td>\n",
       "    </tr>\n",
       "    <tr>\n",
       "      <th>30</th>\n",
       "      <td>8.191993</td>\n",
       "      <td>0.124075</td>\n",
       "      <td>-2.007312</td>\n",
       "      <td>-2.160508</td>\n",
       "      <td>1.0</td>\n",
       "      <td>3</td>\n",
       "    </tr>\n",
       "    <tr>\n",
       "      <th>40</th>\n",
       "      <td>3.555436</td>\n",
       "      <td>0.977662</td>\n",
       "      <td>0.632112</td>\n",
       "      <td>0.036175</td>\n",
       "      <td>1.0</td>\n",
       "      <td>4</td>\n",
       "    </tr>\n",
       "  </tbody>\n",
       "</table>\n",
       "</div>"
      ],
      "text/plain": [
       "           y       X_0       X_1       X_2    Z  cluster\n",
       "0  -0.132555 -0.070097 -0.169975  0.431369  1.0        0\n",
       "10  7.367295  2.371786  0.185957  1.003058  1.0        1\n",
       "20  1.730853  1.073621 -1.120714 -1.233593  1.0        2\n",
       "30  8.191993  0.124075 -2.007312 -2.160508  1.0        3\n",
       "40  3.555436  0.977662  0.632112  0.036175  1.0        4"
      ]
     },
     "execution_count": 71,
     "metadata": {},
     "output_type": "execute_result"
    }
   ],
   "source": [
    "train.head()"
   ]
  },
  {
   "cell_type": "markdown",
   "metadata": {},
   "source": [
    "# MERF Training"
   ]
  },
  {
   "cell_type": "code",
   "execution_count": 72,
   "metadata": {},
   "outputs": [],
   "source": [
    "X_train = train[['X_0', 'X_1', 'X_2']]\n",
    "Z_train = train[['Z']]\n",
    "clusters_train = train['cluster']\n",
    "y_train = train['y']"
   ]
  },
  {
   "cell_type": "code",
   "execution_count": 73,
   "metadata": {},
   "outputs": [
    {
     "name": "stderr",
     "output_type": "stream",
     "text": [
      "INFO     [merf.py:235] GLL is 1055.7566897458835 at iteration 1.\n",
      "INFO     [merf.py:235] GLL is 916.1102271283887 at iteration 2.\n",
      "INFO     [merf.py:235] GLL is 890.7044224125543 at iteration 3.\n",
      "INFO     [merf.py:235] GLL is 884.5789365008372 at iteration 4.\n",
      "INFO     [merf.py:235] GLL is 889.3014079521929 at iteration 5.\n",
      "INFO     [merf.py:235] GLL is 889.1383695812408 at iteration 6.\n",
      "INFO     [merf.py:235] GLL is 882.5890305065777 at iteration 7.\n",
      "INFO     [merf.py:235] GLL is 892.576122580085 at iteration 8.\n",
      "INFO     [merf.py:235] GLL is 879.1580330677486 at iteration 9.\n",
      "INFO     [merf.py:235] GLL is 879.7631674067123 at iteration 10.\n",
      "INFO     [merf.py:235] GLL is 895.7692746919284 at iteration 11.\n",
      "INFO     [merf.py:235] GLL is 904.1329197713377 at iteration 12.\n",
      "INFO     [merf.py:235] GLL is 884.4448869238723 at iteration 13.\n",
      "INFO     [merf.py:235] GLL is 890.9760755201743 at iteration 14.\n",
      "INFO     [merf.py:235] GLL is 896.9345245866348 at iteration 15.\n",
      "INFO     [merf.py:235] GLL is 879.5855820371622 at iteration 16.\n",
      "INFO     [merf.py:235] GLL is 889.8858993147869 at iteration 17.\n",
      "INFO     [merf.py:235] GLL is 888.6779817955355 at iteration 18.\n",
      "INFO     [merf.py:235] GLL is 880.4985799388854 at iteration 19.\n",
      "INFO     [merf.py:235] GLL is 882.9517615986432 at iteration 20.\n",
      "INFO     [merf.py:235] GLL is 886.3383044747559 at iteration 21.\n",
      "INFO     [merf.py:235] GLL is 880.8110333146828 at iteration 22.\n",
      "INFO     [merf.py:235] GLL is 880.7748498229108 at iteration 23.\n",
      "INFO     [merf.py:235] GLL is 888.5632106250382 at iteration 24.\n",
      "INFO     [merf.py:235] GLL is 885.9515494701498 at iteration 25.\n",
      "INFO     [merf.py:235] GLL is 892.9533773282367 at iteration 26.\n",
      "INFO     [merf.py:235] GLL is 892.1317820697415 at iteration 27.\n",
      "INFO     [merf.py:235] GLL is 887.7681794769602 at iteration 28.\n",
      "INFO     [merf.py:235] GLL is 884.0978619424103 at iteration 29.\n",
      "INFO     [merf.py:235] GLL is 885.1245323258397 at iteration 30.\n",
      "INFO     [merf.py:235] GLL is 877.2929223183702 at iteration 31.\n",
      "INFO     [merf.py:235] GLL is 888.7474092598361 at iteration 32.\n",
      "INFO     [merf.py:235] GLL is 887.3817339192682 at iteration 33.\n",
      "INFO     [merf.py:235] GLL is 894.055481668749 at iteration 34.\n",
      "INFO     [merf.py:235] GLL is 888.9147947741585 at iteration 35.\n",
      "INFO     [merf.py:235] GLL is 884.0514837378012 at iteration 36.\n",
      "INFO     [merf.py:235] GLL is 887.557811412293 at iteration 37.\n",
      "INFO     [merf.py:235] GLL is 892.2963437936526 at iteration 38.\n",
      "INFO     [merf.py:235] GLL is 891.8387365405683 at iteration 39.\n",
      "INFO     [merf.py:235] GLL is 886.019779005631 at iteration 40.\n",
      "INFO     [merf.py:235] GLL is 882.5927165952359 at iteration 41.\n",
      "INFO     [merf.py:235] GLL is 897.018593216648 at iteration 42.\n",
      "INFO     [merf.py:235] GLL is 891.6394869867393 at iteration 43.\n",
      "INFO     [merf.py:235] GLL is 894.3505776162392 at iteration 44.\n",
      "INFO     [merf.py:235] GLL is 885.9053447737333 at iteration 45.\n",
      "INFO     [merf.py:235] GLL is 894.5482591338294 at iteration 46.\n",
      "INFO     [merf.py:235] GLL is 895.6398757899683 at iteration 47.\n",
      "INFO     [merf.py:235] GLL is 881.2797209638165 at iteration 48.\n",
      "INFO     [merf.py:235] GLL is 892.6943215073343 at iteration 49.\n",
      "INFO     [merf.py:235] GLL is 888.0183536084558 at iteration 50.\n",
      "INFO     [merf.py:235] GLL is 877.8151148756563 at iteration 51.\n",
      "INFO     [merf.py:235] GLL is 892.0336576058668 at iteration 52.\n",
      "INFO     [merf.py:235] GLL is 892.9240551547847 at iteration 53.\n",
      "INFO     [merf.py:235] GLL is 877.701762734549 at iteration 54.\n",
      "INFO     [merf.py:235] GLL is 892.3745060970981 at iteration 55.\n",
      "INFO     [merf.py:235] GLL is 882.6652778035314 at iteration 56.\n",
      "INFO     [merf.py:235] GLL is 890.6159522341178 at iteration 57.\n",
      "INFO     [merf.py:235] GLL is 882.516858413317 at iteration 58.\n",
      "INFO     [merf.py:235] GLL is 890.6436164145713 at iteration 59.\n",
      "INFO     [merf.py:235] GLL is 890.7278490292971 at iteration 60.\n",
      "INFO     [merf.py:235] GLL is 894.239654553739 at iteration 61.\n",
      "INFO     [merf.py:235] GLL is 882.9931946667208 at iteration 62.\n",
      "INFO     [merf.py:235] GLL is 875.0008802213754 at iteration 63.\n",
      "INFO     [merf.py:235] GLL is 879.3214226264548 at iteration 64.\n",
      "INFO     [merf.py:235] GLL is 886.5199744475104 at iteration 65.\n",
      "INFO     [merf.py:235] GLL is 878.1963992999574 at iteration 66.\n",
      "INFO     [merf.py:235] GLL is 880.7636509475735 at iteration 67.\n",
      "INFO     [merf.py:235] GLL is 895.4949628044646 at iteration 68.\n",
      "INFO     [merf.py:235] GLL is 889.6473696774627 at iteration 69.\n",
      "INFO     [merf.py:235] GLL is 890.3966309137744 at iteration 70.\n",
      "INFO     [merf.py:235] GLL is 885.7158846246311 at iteration 71.\n",
      "INFO     [merf.py:235] GLL is 887.939192292086 at iteration 72.\n",
      "INFO     [merf.py:235] GLL is 881.2487767778299 at iteration 73.\n",
      "INFO     [merf.py:235] GLL is 884.2719034974116 at iteration 74.\n",
      "INFO     [merf.py:235] GLL is 889.4038425222047 at iteration 75.\n",
      "INFO     [merf.py:235] GLL is 889.8788155217799 at iteration 76.\n",
      "INFO     [merf.py:235] GLL is 877.8946393187397 at iteration 77.\n",
      "INFO     [merf.py:235] GLL is 891.9258043050863 at iteration 78.\n",
      "INFO     [merf.py:235] GLL is 892.2153684554077 at iteration 79.\n",
      "INFO     [merf.py:235] GLL is 891.4795796892491 at iteration 80.\n",
      "INFO     [merf.py:235] GLL is 881.9084765482384 at iteration 81.\n",
      "INFO     [merf.py:235] GLL is 888.8497144459359 at iteration 82.\n",
      "INFO     [merf.py:235] GLL is 893.4129164670171 at iteration 83.\n",
      "INFO     [merf.py:235] GLL is 894.2745023736262 at iteration 84.\n",
      "INFO     [merf.py:235] GLL is 885.0681675274508 at iteration 85.\n",
      "INFO     [merf.py:235] GLL is 896.1414992842194 at iteration 86.\n",
      "INFO     [merf.py:235] GLL is 882.855396159289 at iteration 87.\n",
      "INFO     [merf.py:235] GLL is 891.781343889724 at iteration 88.\n",
      "INFO     [merf.py:235] GLL is 880.8428549489046 at iteration 89.\n",
      "INFO     [merf.py:235] GLL is 886.7323334365009 at iteration 90.\n",
      "INFO     [merf.py:235] GLL is 884.3502473335385 at iteration 91.\n",
      "INFO     [merf.py:235] GLL is 881.3199212738741 at iteration 92.\n",
      "INFO     [merf.py:235] GLL is 877.8373047837214 at iteration 93.\n",
      "INFO     [merf.py:235] GLL is 888.889509599722 at iteration 94.\n",
      "INFO     [merf.py:235] GLL is 895.7768882204025 at iteration 95.\n",
      "INFO     [merf.py:235] GLL is 887.3981015545305 at iteration 96.\n",
      "INFO     [merf.py:235] GLL is 890.0842280219613 at iteration 97.\n",
      "INFO     [merf.py:235] GLL is 886.4129927973802 at iteration 98.\n",
      "INFO     [merf.py:235] GLL is 885.5626841244932 at iteration 99.\n",
      "INFO     [merf.py:235] GLL is 890.4654262338954 at iteration 100.\n"
     ]
    },
    {
     "data": {
      "text/plain": [
       "<merf.merf.MERF at 0x1122ddd68>"
      ]
     },
     "execution_count": 73,
     "metadata": {},
     "output_type": "execute_result"
    }
   ],
   "source": [
    "mrf = MERF(n_estimators=300, max_iterations=100)\n",
    "mrf.fit(X_train, Z_train, clusters_train, y_train)"
   ]
  },
  {
   "cell_type": "code",
   "execution_count": 74,
   "metadata": {},
   "outputs": [
    {
     "data": {
      "text/plain": [
       "Text(0.5,0,'Iteration')"
      ]
     },
     "execution_count": 74,
     "metadata": {},
     "output_type": "execute_result"
    },
    {
     "data": {
      "image/png": "[encoded data removed]",
      "text/plain": [
       "<matplotlib.figure.Figure at 0x1122b25c0>"
      ]
     },
     "metadata": {},
     "output_type": "display_data"
    }
   ],
   "source": [
    "plt.figure(figsize=[15,10])\n",
    "plt.subplot(221)\n",
    "plt.plot(mrf.gll_history)\n",
    "plt.grid('on')\n",
    "plt.ylabel('GLL')\n",
    "plt.xlabel('Iteration')\n",
    "\n",
    "plt.subplot(222)\n",
    "D_hat_history = [x[0][0] for x in mrf.D_hat_history]\n",
    "plt.plot(D_hat_history)\n",
    "plt.grid('on')\n",
    "plt.ylabel('sigma_b2_hat')\n",
    "plt.xlabel('Iteration')\n",
    "\n",
    "plt.subplot(223)\n",
    "plt.plot(mrf.sigma2_hat_history)\n",
    "plt.grid('on')\n",
    "plt.ylabel('sigma_e2_hat')\n",
    "plt.xlabel('Iteration')\n",
    "\n",
    "plt.subplot(224)\n",
    "b_df = pd.concat(mrf.b_hat_history, axis=1)\n",
    "b_df.columns = range(0, 101)\n",
    "plt.plot(b_df.loc[0])\n",
    "plt.plot(b_df.loc[20])\n",
    "plt.plot(b_df.loc[30])\n",
    "plt.plot(b_df.loc[40])\n",
    "plt.plot(b_df.loc[50])\n",
    "plt.plot(b_df.loc[60])\n",
    "plt.grid('on')\n",
    "plt.ylabel('b_hat')\n",
    "plt.xlabel('Iteration')"
   ]
  },
  {
   "cell_type": "code",
   "execution_count": 75,
   "metadata": {},
   "outputs": [
    {
     "data": {
      "text/plain": [
       "Text(0.5,1,'Distribution of b_is')"
      ]
     },
     "execution_count": 75,
     "metadata": {},
     "output_type": "execute_result"
    },
    {
     "data": {
      "image/png": "[encoded data removed]",
      "text/plain": [
       "<matplotlib.figure.Figure at 0x112739630>"
      ]
     },
     "metadata": {},
     "output_type": "display_data"
    }
   ],
   "source": [
    "mrf.trained_b.hist(bins=15)\n",
    "plt.xlabel('b_i')\n",
    "plt.title('Distribution of b_is')"
   ]
  },
  {
   "cell_type": "markdown",
   "metadata": {},
   "source": [
    "# MERF Prediction"
   ]
  },
  {
   "cell_type": "code",
   "execution_count": 99,
   "metadata": {},
   "outputs": [],
   "source": [
    "X_known = test_known[['X_0', 'X_1', 'X_2']]\n",
    "Z_known = test_known[['Z']]\n",
    "clusters_known = test_known['cluster']\n",
    "y_known = test_known['y']"
   ]
  },
  {
   "cell_type": "code",
   "execution_count": 100,
   "metadata": {},
   "outputs": [],
   "source": [
    "assert len(y_hat_known) == len(y_known)"
   ]
  },
  {
   "cell_type": "code",
   "execution_count": 101,
   "metadata": {},
   "outputs": [],
   "source": [
    "X_new = test_new[['X_0', 'X_1', 'X_2']]\n",
    "Z_new = test_new[['Z']]\n",
    "clusters_new = test_new['cluster']\n",
    "y_new = test_new['y']"
   ]
  },
  {
   "cell_type": "code",
   "execution_count": 102,
   "metadata": {},
   "outputs": [
    {
     "data": {
      "text/plain": [
       "array([ 6.57673186, -1.43042298,  4.01878245, ...,  4.70579036,\n",
       "        2.67607293,  0.28441851])"
      ]
     },
     "execution_count": 102,
     "metadata": {},
     "output_type": "execute_result"
    }
   ],
   "source": [
    "y_hat_known = mrf.predict(X_known, Z_known, clusters_known)\n",
    "y_hat_known"
   ]
  },
  {
   "cell_type": "code",
   "execution_count": 103,
   "metadata": {},
   "outputs": [
    {
     "data": {
      "text/plain": [
       "array([ 4.54853784,  2.67002571,  1.2784949 , ...,  0.33731191,\n",
       "        3.15116351,  1.44227498])"
      ]
     },
     "execution_count": 103,
     "metadata": {},
     "output_type": "execute_result"
    }
   ],
   "source": [
    "y_hat_new = mrf.predict(X_new, Z_new, clusters_new)\n",
    "y_hat_new"
   ]
  },
  {
   "cell_type": "code",
   "execution_count": 104,
   "metadata": {},
   "outputs": [],
   "source": [
    "assert len(y_hat_new) == len(y_new)"
   ]
  },
  {
   "cell_type": "markdown",
   "metadata": {},
   "source": [
    "# MERF vs. Random Forest on Fixed Effects"
   ]
  },
  {
   "cell_type": "code",
   "execution_count": null,
   "metadata": {},
   "outputs": [],
   "source": [
    "mrf."
   ]
  },
  {
   "cell_type": "code",
   "execution_count": 73,
   "metadata": {},
   "outputs": [],
   "source": [
    "# Train and test using classic random forest. \n",
    "from sklearn.ensemble import RandomForestRegressor\n",
    "import numpy as np"
   ]
  },
  {
   "cell_type": "code",
   "execution_count": 74,
   "metadata": {},
   "outputs": [],
   "source": [
    "rf = RandomForestRegressor(n_estimators=300, n_jobs=-1)"
   ]
  },
  {
   "cell_type": "code",
   "execution_count": 75,
   "metadata": {},
   "outputs": [
    {
     "data": {
      "text/plain": [
       "RandomForestRegressor(bootstrap=True, criterion='mse', max_depth=None,\n",
       "           max_features='auto', max_leaf_nodes=None,\n",
       "           min_impurity_decrease=0.0, min_impurity_split=None,\n",
       "           min_samples_leaf=1, min_samples_split=2,\n",
       "           min_weight_fraction_leaf=0.0, n_estimators=300, n_jobs=-1,\n",
       "           oob_score=False, random_state=None, verbose=0, warm_start=False)"
      ]
     },
     "execution_count": 75,
     "metadata": {},
     "output_type": "execute_result"
    }
   ],
   "source": [
    "rf.fit(X_train, y_train)"
   ]
  },
  {
   "cell_type": "code",
   "execution_count": 76,
   "metadata": {},
   "outputs": [],
   "source": [
    "y_hat_known_rf = rf.predict(X_known)"
   ]
  },
  {
   "cell_type": "code",
   "execution_count": 77,
   "metadata": {},
   "outputs": [
    {
     "data": {
      "text/plain": [
       "6.1108047838575983"
      ]
     },
     "execution_count": 77,
     "metadata": {},
     "output_type": "execute_result"
    }
   ],
   "source": [
    "pmse_known_rf = np.mean((y_known - y_hat_known_rf) ** 2)\n",
    "pmse_known_rf"
   ]
  },
  {
   "cell_type": "code",
   "execution_count": 78,
   "metadata": {},
   "outputs": [],
   "source": [
    "y_hat_known_merf = mrf.predict(X_known, Z_known, clusters_known)"
   ]
  },
  {
   "cell_type": "code",
   "execution_count": 79,
   "metadata": {},
   "outputs": [
    {
     "data": {
      "text/plain": [
       "2.1615926011237274"
      ]
     },
     "execution_count": 79,
     "metadata": {},
     "output_type": "execute_result"
    }
   ],
   "source": [
    "pmse_known_merf = np.mean((y_known - y_hat_known_merf) ** 2)\n",
    "pmse_known_merf"
   ]
  },
  {
   "cell_type": "code",
   "execution_count": 80,
   "metadata": {},
   "outputs": [
    {
     "data": {
      "text/plain": [
       "64.626711577600616"
      ]
     },
     "execution_count": 80,
     "metadata": {},
     "output_type": "execute_result"
    }
   ],
   "source": [
    "rd_known = 100 * (pmse_known_rf - pmse_known_merf) / pmse_known_rf\n",
    "rd_known"
   ]
  },
  {
   "cell_type": "code",
   "execution_count": 81,
   "metadata": {},
   "outputs": [],
   "source": [
    "y_hat_new_rf = rf.predict(X_new)"
   ]
  },
  {
   "cell_type": "code",
   "execution_count": 82,
   "metadata": {},
   "outputs": [
    {
     "data": {
      "text/plain": [
       "7.5871359870667101"
      ]
     },
     "execution_count": 82,
     "metadata": {},
     "output_type": "execute_result"
    }
   ],
   "source": [
    "pmse_new_rf = np.mean((y_new - y_hat_new_rf) ** 2)\n",
    "pmse_new_rf"
   ]
  },
  {
   "cell_type": "code",
   "execution_count": 83,
   "metadata": {},
   "outputs": [],
   "source": [
    "y_hat_new_merf = mrf.predict(X_new, Z_new, clusters_new)"
   ]
  },
  {
   "cell_type": "code",
   "execution_count": 84,
   "metadata": {},
   "outputs": [
    {
     "data": {
      "text/plain": [
       "8.7643625665834453"
      ]
     },
     "execution_count": 84,
     "metadata": {},
     "output_type": "execute_result"
    }
   ],
   "source": [
    "pmse_new_merf = np.mean((y_new - y_hat_new_merf) ** 2)\n",
    "pmse_new_merf"
   ]
  },
  {
   "cell_type": "code",
   "execution_count": 85,
   "metadata": {},
   "outputs": [
    {
     "data": {
      "text/plain": [
       "-15.516086459020578"
      ]
     },
     "execution_count": 85,
     "metadata": {},
     "output_type": "execute_result"
    }
   ],
   "source": [
    "rd_new = 100 * (pmse_new_rf - pmse_new_merf) / pmse_new_rf\n",
    "rd_new"
   ]
  },
  {
   "cell_type": "markdown",
   "metadata": {},
   "source": [
    "# MERF vs Random Forest with OHE Cluster Ids"
   ]
  },
  {
   "cell_type": "code",
   "execution_count": 105,
   "metadata": {},
   "outputs": [],
   "source": [
    "rf_ohe = RandomForestRegressor(n_estimators=300, n_jobs=-1)"
   ]
  },
  {
   "cell_type": "code",
   "execution_count": 106,
   "metadata": {},
   "outputs": [],
   "source": [
    "categories = np.sort(clusters_train.unique())"
   ]
  },
  {
   "cell_type": "code",
   "execution_count": 108,
   "metadata": {},
   "outputs": [],
   "source": [
    "clusters_train_prime = clusters_train.astype('category', categories=categories)"
   ]
  },
  {
   "cell_type": "code",
   "execution_count": 109,
   "metadata": {},
   "outputs": [],
   "source": [
    "X_ohe = pd.get_dummies(clusters_train_prime, prefix='cluster')"
   ]
  },
  {
   "cell_type": "code",
   "execution_count": 110,
   "metadata": {},
   "outputs": [
    {
     "data": {
      "text/html": [
       "<div>\n",
       "<style>\n",
       "    .dataframe thead tr:only-child th {\n",
       "        text-align: right;\n",
       "    }\n",
       "\n",
       "    .dataframe thead th {\n",
       "        text-align: left;\n",
       "    }\n",
       "\n",
       "    .dataframe tbody tr th {\n",
       "        vertical-align: top;\n",
       "    }\n",
       "</style>\n",
       "<table border=\"1\" class=\"dataframe\">\n",
       "  <thead>\n",
       "    <tr style=\"text-align: right;\">\n",
       "      <th></th>\n",
       "      <th>cluster_0</th>\n",
       "      <th>cluster_1</th>\n",
       "      <th>cluster_2</th>\n",
       "      <th>cluster_3</th>\n",
       "      <th>cluster_4</th>\n",
       "      <th>cluster_5</th>\n",
       "      <th>cluster_6</th>\n",
       "      <th>cluster_7</th>\n",
       "      <th>cluster_8</th>\n",
       "      <th>cluster_9</th>\n",
       "      <th>...</th>\n",
       "      <th>cluster_90</th>\n",
       "      <th>cluster_91</th>\n",
       "      <th>cluster_92</th>\n",
       "      <th>cluster_93</th>\n",
       "      <th>cluster_94</th>\n",
       "      <th>cluster_95</th>\n",
       "      <th>cluster_96</th>\n",
       "      <th>cluster_97</th>\n",
       "      <th>cluster_98</th>\n",
       "      <th>cluster_99</th>\n",
       "    </tr>\n",
       "  </thead>\n",
       "  <tbody>\n",
       "    <tr>\n",
       "      <th>0</th>\n",
       "      <td>1</td>\n",
       "      <td>0</td>\n",
       "      <td>0</td>\n",
       "      <td>0</td>\n",
       "      <td>0</td>\n",
       "      <td>0</td>\n",
       "      <td>0</td>\n",
       "      <td>0</td>\n",
       "      <td>0</td>\n",
       "      <td>0</td>\n",
       "      <td>...</td>\n",
       "      <td>0</td>\n",
       "      <td>0</td>\n",
       "      <td>0</td>\n",
       "      <td>0</td>\n",
       "      <td>0</td>\n",
       "      <td>0</td>\n",
       "      <td>0</td>\n",
       "      <td>0</td>\n",
       "      <td>0</td>\n",
       "      <td>0</td>\n",
       "    </tr>\n",
       "    <tr>\n",
       "      <th>10</th>\n",
       "      <td>0</td>\n",
       "      <td>1</td>\n",
       "      <td>0</td>\n",
       "      <td>0</td>\n",
       "      <td>0</td>\n",
       "      <td>0</td>\n",
       "      <td>0</td>\n",
       "      <td>0</td>\n",
       "      <td>0</td>\n",
       "      <td>0</td>\n",
       "      <td>...</td>\n",
       "      <td>0</td>\n",
       "      <td>0</td>\n",
       "      <td>0</td>\n",
       "      <td>0</td>\n",
       "      <td>0</td>\n",
       "      <td>0</td>\n",
       "      <td>0</td>\n",
       "      <td>0</td>\n",
       "      <td>0</td>\n",
       "      <td>0</td>\n",
       "    </tr>\n",
       "    <tr>\n",
       "      <th>20</th>\n",
       "      <td>0</td>\n",
       "      <td>0</td>\n",
       "      <td>1</td>\n",
       "      <td>0</td>\n",
       "      <td>0</td>\n",
       "      <td>0</td>\n",
       "      <td>0</td>\n",
       "      <td>0</td>\n",
       "      <td>0</td>\n",
       "      <td>0</td>\n",
       "      <td>...</td>\n",
       "      <td>0</td>\n",
       "      <td>0</td>\n",
       "      <td>0</td>\n",
       "      <td>0</td>\n",
       "      <td>0</td>\n",
       "      <td>0</td>\n",
       "      <td>0</td>\n",
       "      <td>0</td>\n",
       "      <td>0</td>\n",
       "      <td>0</td>\n",
       "    </tr>\n",
       "    <tr>\n",
       "      <th>30</th>\n",
       "      <td>0</td>\n",
       "      <td>0</td>\n",
       "      <td>0</td>\n",
       "      <td>1</td>\n",
       "      <td>0</td>\n",
       "      <td>0</td>\n",
       "      <td>0</td>\n",
       "      <td>0</td>\n",
       "      <td>0</td>\n",
       "      <td>0</td>\n",
       "      <td>...</td>\n",
       "      <td>0</td>\n",
       "      <td>0</td>\n",
       "      <td>0</td>\n",
       "      <td>0</td>\n",
       "      <td>0</td>\n",
       "      <td>0</td>\n",
       "      <td>0</td>\n",
       "      <td>0</td>\n",
       "      <td>0</td>\n",
       "      <td>0</td>\n",
       "    </tr>\n",
       "    <tr>\n",
       "      <th>40</th>\n",
       "      <td>0</td>\n",
       "      <td>0</td>\n",
       "      <td>0</td>\n",
       "      <td>0</td>\n",
       "      <td>1</td>\n",
       "      <td>0</td>\n",
       "      <td>0</td>\n",
       "      <td>0</td>\n",
       "      <td>0</td>\n",
       "      <td>0</td>\n",
       "      <td>...</td>\n",
       "      <td>0</td>\n",
       "      <td>0</td>\n",
       "      <td>0</td>\n",
       "      <td>0</td>\n",
       "      <td>0</td>\n",
       "      <td>0</td>\n",
       "      <td>0</td>\n",
       "      <td>0</td>\n",
       "      <td>0</td>\n",
       "      <td>0</td>\n",
       "    </tr>\n",
       "  </tbody>\n",
       "</table>\n",
       "<p>5 rows × 100 columns</p>\n",
       "</div>"
      ],
      "text/plain": [
       "    cluster_0  cluster_1  cluster_2  cluster_3  cluster_4  cluster_5  \\\n",
       "0           1          0          0          0          0          0   \n",
       "10          0          1          0          0          0          0   \n",
       "20          0          0          1          0          0          0   \n",
       "30          0          0          0          1          0          0   \n",
       "40          0          0          0          0          1          0   \n",
       "\n",
       "    cluster_6  cluster_7  cluster_8  cluster_9     ...      cluster_90  \\\n",
       "0           0          0          0          0     ...               0   \n",
       "10          0          0          0          0     ...               0   \n",
       "20          0          0          0          0     ...               0   \n",
       "30          0          0          0          0     ...               0   \n",
       "40          0          0          0          0     ...               0   \n",
       "\n",
       "    cluster_91  cluster_92  cluster_93  cluster_94  cluster_95  cluster_96  \\\n",
       "0            0           0           0           0           0           0   \n",
       "10           0           0           0           0           0           0   \n",
       "20           0           0           0           0           0           0   \n",
       "30           0           0           0           0           0           0   \n",
       "40           0           0           0           0           0           0   \n",
       "\n",
       "    cluster_97  cluster_98  cluster_99  \n",
       "0            0           0           0  \n",
       "10           0           0           0  \n",
       "20           0           0           0  \n",
       "30           0           0           0  \n",
       "40           0           0           0  \n",
       "\n",
       "[5 rows x 100 columns]"
      ]
     },
     "execution_count": 110,
     "metadata": {},
     "output_type": "execute_result"
    }
   ],
   "source": [
    "X_ohe.head()"
   ]
  },
  {
   "cell_type": "code",
   "execution_count": 111,
   "metadata": {},
   "outputs": [],
   "source": [
    "X_train_ohe = pd.merge(X_train, X_ohe, left_index=True, right_index=True)"
   ]
  },
  {
   "cell_type": "code",
   "execution_count": 112,
   "metadata": {},
   "outputs": [
    {
     "data": {
      "text/plain": [
       "RandomForestRegressor(bootstrap=True, criterion='mse', max_depth=None,\n",
       "           max_features='auto', max_leaf_nodes=None,\n",
       "           min_impurity_decrease=0.0, min_impurity_split=None,\n",
       "           min_samples_leaf=1, min_samples_split=2,\n",
       "           min_weight_fraction_leaf=0.0, n_estimators=300, n_jobs=-1,\n",
       "           oob_score=False, random_state=None, verbose=0, warm_start=False)"
      ]
     },
     "execution_count": 112,
     "metadata": {},
     "output_type": "execute_result"
    }
   ],
   "source": [
    "rf_ohe.fit(X_train_ohe, y_train)"
   ]
  },
  {
   "cell_type": "code",
   "execution_count": 113,
   "metadata": {},
   "outputs": [],
   "source": [
    "clusters_known_prime = clusters_known.astype('category', categories=categories)"
   ]
  },
  {
   "cell_type": "code",
   "execution_count": 114,
   "metadata": {},
   "outputs": [],
   "source": [
    "X_known_ohe = pd.get_dummies(clusters_known_prime, prefix='cluster')"
   ]
  },
  {
   "cell_type": "code",
   "execution_count": 115,
   "metadata": {},
   "outputs": [
    {
     "data": {
      "text/html": [
       "<div>\n",
       "<style>\n",
       "    .dataframe thead tr:only-child th {\n",
       "        text-align: right;\n",
       "    }\n",
       "\n",
       "    .dataframe thead th {\n",
       "        text-align: left;\n",
       "    }\n",
       "\n",
       "    .dataframe tbody tr th {\n",
       "        vertical-align: top;\n",
       "    }\n",
       "</style>\n",
       "<table border=\"1\" class=\"dataframe\">\n",
       "  <thead>\n",
       "    <tr style=\"text-align: right;\">\n",
       "      <th></th>\n",
       "      <th>cluster_0</th>\n",
       "      <th>cluster_1</th>\n",
       "      <th>cluster_2</th>\n",
       "      <th>cluster_3</th>\n",
       "      <th>cluster_4</th>\n",
       "      <th>cluster_5</th>\n",
       "      <th>cluster_6</th>\n",
       "      <th>cluster_7</th>\n",
       "      <th>cluster_8</th>\n",
       "      <th>cluster_9</th>\n",
       "      <th>...</th>\n",
       "      <th>cluster_90</th>\n",
       "      <th>cluster_91</th>\n",
       "      <th>cluster_92</th>\n",
       "      <th>cluster_93</th>\n",
       "      <th>cluster_94</th>\n",
       "      <th>cluster_95</th>\n",
       "      <th>cluster_96</th>\n",
       "      <th>cluster_97</th>\n",
       "      <th>cluster_98</th>\n",
       "      <th>cluster_99</th>\n",
       "    </tr>\n",
       "  </thead>\n",
       "  <tbody>\n",
       "    <tr>\n",
       "      <th>1</th>\n",
       "      <td>1</td>\n",
       "      <td>0</td>\n",
       "      <td>0</td>\n",
       "      <td>0</td>\n",
       "      <td>0</td>\n",
       "      <td>0</td>\n",
       "      <td>0</td>\n",
       "      <td>0</td>\n",
       "      <td>0</td>\n",
       "      <td>0</td>\n",
       "      <td>...</td>\n",
       "      <td>0</td>\n",
       "      <td>0</td>\n",
       "      <td>0</td>\n",
       "      <td>0</td>\n",
       "      <td>0</td>\n",
       "      <td>0</td>\n",
       "      <td>0</td>\n",
       "      <td>0</td>\n",
       "      <td>0</td>\n",
       "      <td>0</td>\n",
       "    </tr>\n",
       "    <tr>\n",
       "      <th>2</th>\n",
       "      <td>1</td>\n",
       "      <td>0</td>\n",
       "      <td>0</td>\n",
       "      <td>0</td>\n",
       "      <td>0</td>\n",
       "      <td>0</td>\n",
       "      <td>0</td>\n",
       "      <td>0</td>\n",
       "      <td>0</td>\n",
       "      <td>0</td>\n",
       "      <td>...</td>\n",
       "      <td>0</td>\n",
       "      <td>0</td>\n",
       "      <td>0</td>\n",
       "      <td>0</td>\n",
       "      <td>0</td>\n",
       "      <td>0</td>\n",
       "      <td>0</td>\n",
       "      <td>0</td>\n",
       "      <td>0</td>\n",
       "      <td>0</td>\n",
       "    </tr>\n",
       "    <tr>\n",
       "      <th>3</th>\n",
       "      <td>1</td>\n",
       "      <td>0</td>\n",
       "      <td>0</td>\n",
       "      <td>0</td>\n",
       "      <td>0</td>\n",
       "      <td>0</td>\n",
       "      <td>0</td>\n",
       "      <td>0</td>\n",
       "      <td>0</td>\n",
       "      <td>0</td>\n",
       "      <td>...</td>\n",
       "      <td>0</td>\n",
       "      <td>0</td>\n",
       "      <td>0</td>\n",
       "      <td>0</td>\n",
       "      <td>0</td>\n",
       "      <td>0</td>\n",
       "      <td>0</td>\n",
       "      <td>0</td>\n",
       "      <td>0</td>\n",
       "      <td>0</td>\n",
       "    </tr>\n",
       "    <tr>\n",
       "      <th>4</th>\n",
       "      <td>1</td>\n",
       "      <td>0</td>\n",
       "      <td>0</td>\n",
       "      <td>0</td>\n",
       "      <td>0</td>\n",
       "      <td>0</td>\n",
       "      <td>0</td>\n",
       "      <td>0</td>\n",
       "      <td>0</td>\n",
       "      <td>0</td>\n",
       "      <td>...</td>\n",
       "      <td>0</td>\n",
       "      <td>0</td>\n",
       "      <td>0</td>\n",
       "      <td>0</td>\n",
       "      <td>0</td>\n",
       "      <td>0</td>\n",
       "      <td>0</td>\n",
       "      <td>0</td>\n",
       "      <td>0</td>\n",
       "      <td>0</td>\n",
       "    </tr>\n",
       "    <tr>\n",
       "      <th>5</th>\n",
       "      <td>1</td>\n",
       "      <td>0</td>\n",
       "      <td>0</td>\n",
       "      <td>0</td>\n",
       "      <td>0</td>\n",
       "      <td>0</td>\n",
       "      <td>0</td>\n",
       "      <td>0</td>\n",
       "      <td>0</td>\n",
       "      <td>0</td>\n",
       "      <td>...</td>\n",
       "      <td>0</td>\n",
       "      <td>0</td>\n",
       "      <td>0</td>\n",
       "      <td>0</td>\n",
       "      <td>0</td>\n",
       "      <td>0</td>\n",
       "      <td>0</td>\n",
       "      <td>0</td>\n",
       "      <td>0</td>\n",
       "      <td>0</td>\n",
       "    </tr>\n",
       "  </tbody>\n",
       "</table>\n",
       "<p>5 rows × 100 columns</p>\n",
       "</div>"
      ],
      "text/plain": [
       "   cluster_0  cluster_1  cluster_2  cluster_3  cluster_4  cluster_5  \\\n",
       "1          1          0          0          0          0          0   \n",
       "2          1          0          0          0          0          0   \n",
       "3          1          0          0          0          0          0   \n",
       "4          1          0          0          0          0          0   \n",
       "5          1          0          0          0          0          0   \n",
       "\n",
       "   cluster_6  cluster_7  cluster_8  cluster_9     ...      cluster_90  \\\n",
       "1          0          0          0          0     ...               0   \n",
       "2          0          0          0          0     ...               0   \n",
       "3          0          0          0          0     ...               0   \n",
       "4          0          0          0          0     ...               0   \n",
       "5          0          0          0          0     ...               0   \n",
       "\n",
       "   cluster_91  cluster_92  cluster_93  cluster_94  cluster_95  cluster_96  \\\n",
       "1           0           0           0           0           0           0   \n",
       "2           0           0           0           0           0           0   \n",
       "3           0           0           0           0           0           0   \n",
       "4           0           0           0           0           0           0   \n",
       "5           0           0           0           0           0           0   \n",
       "\n",
       "   cluster_97  cluster_98  cluster_99  \n",
       "1           0           0           0  \n",
       "2           0           0           0  \n",
       "3           0           0           0  \n",
       "4           0           0           0  \n",
       "5           0           0           0  \n",
       "\n",
       "[5 rows x 100 columns]"
      ]
     },
     "execution_count": 115,
     "metadata": {},
     "output_type": "execute_result"
    }
   ],
   "source": [
    "X_known_ohe.head()"
   ]
  },
  {
   "cell_type": "code",
   "execution_count": 116,
   "metadata": {},
   "outputs": [],
   "source": [
    "X_known_w_ohe = pd.merge(X_known, X_known_ohe, left_index=True, right_index=True)"
   ]
  },
  {
   "cell_type": "code",
   "execution_count": 117,
   "metadata": {},
   "outputs": [],
   "source": [
    "y_hat_known_rf_ohe = rf_ohe.predict(X_known_w_ohe)"
   ]
  },
  {
   "cell_type": "code",
   "execution_count": 118,
   "metadata": {},
   "outputs": [
    {
     "data": {
      "text/plain": [
       "5.4868954844489002"
      ]
     },
     "execution_count": 118,
     "metadata": {},
     "output_type": "execute_result"
    }
   ],
   "source": [
    "mse_known_rf_ohe = np.mean((y_known - y_hat_known_rf_ohe) ** 2)\n",
    "mse_known_rf_ohe"
   ]
  },
  {
   "cell_type": "code",
   "execution_count": 119,
   "metadata": {},
   "outputs": [
    {
     "name": "stderr",
     "output_type": "stream",
     "text": [
      "/Users/souravdey/.virtualenvs/merf/lib/python3.6/site-packages/pandas/core/internals.py:490: RuntimeWarning: None of the categories were found in values. Did you mean to use\n",
      "'Categorical.from_codes(codes, categories)'?\n",
      "  return self.make_block(Categorical(self.values, **kwargs))\n"
     ]
    }
   ],
   "source": [
    "clusters_new_prime = clusters_new.astype('category', categories=categories)"
   ]
  },
  {
   "cell_type": "code",
   "execution_count": 120,
   "metadata": {},
   "outputs": [],
   "source": [
    "X_new_ohe = pd.get_dummies(clusters_new_prime, prefix='cluster')"
   ]
  },
  {
   "cell_type": "code",
   "execution_count": 121,
   "metadata": {},
   "outputs": [
    {
     "data": {
      "text/html": [
       "<div>\n",
       "<style>\n",
       "    .dataframe thead tr:only-child th {\n",
       "        text-align: right;\n",
       "    }\n",
       "\n",
       "    .dataframe thead th {\n",
       "        text-align: left;\n",
       "    }\n",
       "\n",
       "    .dataframe tbody tr th {\n",
       "        vertical-align: top;\n",
       "    }\n",
       "</style>\n",
       "<table border=\"1\" class=\"dataframe\">\n",
       "  <thead>\n",
       "    <tr style=\"text-align: right;\">\n",
       "      <th></th>\n",
       "      <th>cluster_0</th>\n",
       "      <th>cluster_1</th>\n",
       "      <th>cluster_2</th>\n",
       "      <th>cluster_3</th>\n",
       "      <th>cluster_4</th>\n",
       "      <th>cluster_5</th>\n",
       "      <th>cluster_6</th>\n",
       "      <th>cluster_7</th>\n",
       "      <th>cluster_8</th>\n",
       "      <th>cluster_9</th>\n",
       "      <th>...</th>\n",
       "      <th>cluster_90</th>\n",
       "      <th>cluster_91</th>\n",
       "      <th>cluster_92</th>\n",
       "      <th>cluster_93</th>\n",
       "      <th>cluster_94</th>\n",
       "      <th>cluster_95</th>\n",
       "      <th>cluster_96</th>\n",
       "      <th>cluster_97</th>\n",
       "      <th>cluster_98</th>\n",
       "      <th>cluster_99</th>\n",
       "    </tr>\n",
       "  </thead>\n",
       "  <tbody>\n",
       "    <tr>\n",
       "      <th>5000</th>\n",
       "      <td>0</td>\n",
       "      <td>0</td>\n",
       "      <td>0</td>\n",
       "      <td>0</td>\n",
       "      <td>0</td>\n",
       "      <td>0</td>\n",
       "      <td>0</td>\n",
       "      <td>0</td>\n",
       "      <td>0</td>\n",
       "      <td>0</td>\n",
       "      <td>...</td>\n",
       "      <td>0</td>\n",
       "      <td>0</td>\n",
       "      <td>0</td>\n",
       "      <td>0</td>\n",
       "      <td>0</td>\n",
       "      <td>0</td>\n",
       "      <td>0</td>\n",
       "      <td>0</td>\n",
       "      <td>0</td>\n",
       "      <td>0</td>\n",
       "    </tr>\n",
       "    <tr>\n",
       "      <th>5001</th>\n",
       "      <td>0</td>\n",
       "      <td>0</td>\n",
       "      <td>0</td>\n",
       "      <td>0</td>\n",
       "      <td>0</td>\n",
       "      <td>0</td>\n",
       "      <td>0</td>\n",
       "      <td>0</td>\n",
       "      <td>0</td>\n",
       "      <td>0</td>\n",
       "      <td>...</td>\n",
       "      <td>0</td>\n",
       "      <td>0</td>\n",
       "      <td>0</td>\n",
       "      <td>0</td>\n",
       "      <td>0</td>\n",
       "      <td>0</td>\n",
       "      <td>0</td>\n",
       "      <td>0</td>\n",
       "      <td>0</td>\n",
       "      <td>0</td>\n",
       "    </tr>\n",
       "    <tr>\n",
       "      <th>5002</th>\n",
       "      <td>0</td>\n",
       "      <td>0</td>\n",
       "      <td>0</td>\n",
       "      <td>0</td>\n",
       "      <td>0</td>\n",
       "      <td>0</td>\n",
       "      <td>0</td>\n",
       "      <td>0</td>\n",
       "      <td>0</td>\n",
       "      <td>0</td>\n",
       "      <td>...</td>\n",
       "      <td>0</td>\n",
       "      <td>0</td>\n",
       "      <td>0</td>\n",
       "      <td>0</td>\n",
       "      <td>0</td>\n",
       "      <td>0</td>\n",
       "      <td>0</td>\n",
       "      <td>0</td>\n",
       "      <td>0</td>\n",
       "      <td>0</td>\n",
       "    </tr>\n",
       "    <tr>\n",
       "      <th>5003</th>\n",
       "      <td>0</td>\n",
       "      <td>0</td>\n",
       "      <td>0</td>\n",
       "      <td>0</td>\n",
       "      <td>0</td>\n",
       "      <td>0</td>\n",
       "      <td>0</td>\n",
       "      <td>0</td>\n",
       "      <td>0</td>\n",
       "      <td>0</td>\n",
       "      <td>...</td>\n",
       "      <td>0</td>\n",
       "      <td>0</td>\n",
       "      <td>0</td>\n",
       "      <td>0</td>\n",
       "      <td>0</td>\n",
       "      <td>0</td>\n",
       "      <td>0</td>\n",
       "      <td>0</td>\n",
       "      <td>0</td>\n",
       "      <td>0</td>\n",
       "    </tr>\n",
       "    <tr>\n",
       "      <th>5004</th>\n",
       "      <td>0</td>\n",
       "      <td>0</td>\n",
       "      <td>0</td>\n",
       "      <td>0</td>\n",
       "      <td>0</td>\n",
       "      <td>0</td>\n",
       "      <td>0</td>\n",
       "      <td>0</td>\n",
       "      <td>0</td>\n",
       "      <td>0</td>\n",
       "      <td>...</td>\n",
       "      <td>0</td>\n",
       "      <td>0</td>\n",
       "      <td>0</td>\n",
       "      <td>0</td>\n",
       "      <td>0</td>\n",
       "      <td>0</td>\n",
       "      <td>0</td>\n",
       "      <td>0</td>\n",
       "      <td>0</td>\n",
       "      <td>0</td>\n",
       "    </tr>\n",
       "  </tbody>\n",
       "</table>\n",
       "<p>5 rows × 100 columns</p>\n",
       "</div>"
      ],
      "text/plain": [
       "      cluster_0  cluster_1  cluster_2  cluster_3  cluster_4  cluster_5  \\\n",
       "5000          0          0          0          0          0          0   \n",
       "5001          0          0          0          0          0          0   \n",
       "5002          0          0          0          0          0          0   \n",
       "5003          0          0          0          0          0          0   \n",
       "5004          0          0          0          0          0          0   \n",
       "\n",
       "      cluster_6  cluster_7  cluster_8  cluster_9     ...      cluster_90  \\\n",
       "5000          0          0          0          0     ...               0   \n",
       "5001          0          0          0          0     ...               0   \n",
       "5002          0          0          0          0     ...               0   \n",
       "5003          0          0          0          0     ...               0   \n",
       "5004          0          0          0          0     ...               0   \n",
       "\n",
       "      cluster_91  cluster_92  cluster_93  cluster_94  cluster_95  cluster_96  \\\n",
       "5000           0           0           0           0           0           0   \n",
       "5001           0           0           0           0           0           0   \n",
       "5002           0           0           0           0           0           0   \n",
       "5003           0           0           0           0           0           0   \n",
       "5004           0           0           0           0           0           0   \n",
       "\n",
       "      cluster_97  cluster_98  cluster_99  \n",
       "5000           0           0           0  \n",
       "5001           0           0           0  \n",
       "5002           0           0           0  \n",
       "5003           0           0           0  \n",
       "5004           0           0           0  \n",
       "\n",
       "[5 rows x 100 columns]"
      ]
     },
     "execution_count": 121,
     "metadata": {},
     "output_type": "execute_result"
    }
   ],
   "source": [
    "X_new_ohe.head()"
   ]
  },
  {
   "cell_type": "code",
   "execution_count": 122,
   "metadata": {},
   "outputs": [],
   "source": [
    "X_new_w_ohe = pd.merge(X_new, X_new_ohe, left_index=True, right_index=True)"
   ]
  },
  {
   "cell_type": "code",
   "execution_count": 123,
   "metadata": {},
   "outputs": [],
   "source": [
    "y_hat_new_rf_ohe = rf_ohe.predict(X_new_w_ohe)"
   ]
  },
  {
   "cell_type": "code",
   "execution_count": 124,
   "metadata": {},
   "outputs": [
    {
     "data": {
      "text/plain": [
       "6.3309646740350836"
      ]
     },
     "execution_count": 124,
     "metadata": {},
     "output_type": "execute_result"
    }
   ],
   "source": [
    "mse_new_rf_ohe = np.mean((y_new - y_hat_new_rf_ohe) ** 2)\n",
    "mse_new_rf_ohe"
   ]
  },
  {
   "cell_type": "code",
   "execution_count": null,
   "metadata": {},
   "outputs": [],
   "source": []
  }
 ],
 "metadata": {
  "kernelspec": {
   "display_name": "Python 3",
   "language": "python",
   "name": "python3"
  },
  "language_info": {
   "codemirror_mode": {
    "name": "ipython",
    "version": 3
   },
   "file_extension": ".py",
   "mimetype": "text/x-python",
   "name": "python",
   "nbconvert_exporter": "python",
   "pygments_lexer": "ipython3",
   "version": "3.6.2"
  }
 },
 "nbformat": 4,
 "nbformat_minor": 2
}
